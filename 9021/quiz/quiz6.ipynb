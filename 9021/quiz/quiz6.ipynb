{
 "cells": [
  {
   "cell_type": "code",
   "execution_count": null,
   "metadata": {},
   "outputs": [],
   "source": [
    "from random import seed, randint\n",
    "import numpy as np\n",
    "import sys"
   ]
  },
  {
   "cell_type": "code",
   "execution_count": null,
   "metadata": {},
   "outputs": [],
   "source": [
    "def display_grid():\n",
    "    for i in range(len(grid)):\n",
    "        print('   ', ' '.join(str(int(grid[i][j] != 0)) for j in range(len(grid))))"
   ]
  },
  {
   "cell_type": "code",
   "execution_count": null,
   "metadata": {},
   "outputs": [],
   "source": [
    "def size_of_largest_isosceles_triangle(i,j,a):\n",
    "    list_test = a\n",
    "    global count\n",
    "    if (i not in range(10))or(j not in range(10))or (j+1 not in range(10))or (i+1 not in range(10))or (j-1 not in range(10)):\n",
    "        return 0\n",
    "    elif(list_test[i][j] !=0)&(list_test[i+1][j+1] !=0)&(list_test[i+1][j] !=0)&(list_test[i+1][j-1] !=0):\n",
    "        return count + int(size_of_largest_isosceles_triangle(i+1,j+1,a)&(size_of_largest_isosceles_triangle(i+1,j,a))&(size_of_largest_isosceles_triangle(i+1,j-1,a)))\n",
    "    else:\n",
    "        return 0"
   ]
  },
  {
   "cell_type": "code",
   "execution_count": null,
   "metadata": {},
   "outputs": [],
   "source": [
    "try:\n",
    "    arg_for_seed, density = (abs(int(x)) for x in input('Enter two integers: ').split())\n",
    "except ValueError:\n",
    "    print('Incorrect input, giving up.')\n",
    "    sys.exit()\n",
    "seed(arg_for_seed)\n",
    "grid = [[randint(0, density) for _ in range(10)] for _ in range(10)]\n",
    "print('Here is the grid that has been generated:')\n",
    "display_grid()\n",
    "max_size = 1\n",
    "max_size_final = 1\n",
    "count = 0\n",
    "grid_90_1 = np.rot90(grid,1)\n",
    "grid_90_2 = np.rot90(grid,2)\n",
    "grid_90_3 = np.rot90(grid,3)"
   ]
  },
  {
   "cell_type": "code",
   "execution_count": null,
   "metadata": {},
   "outputs": [],
   "source": [
    "for i in range(10):\n",
    "    for j in range(10):\n",
    "        max_size = max_size + size_of_largest_isosceles_triangle(i, j,grid)\n",
    "        if max_size >max_size_final :\n",
    "            max_size_final = max_size\n",
    "        max_size = max_size + size_of_largest_isosceles_triangle(i, j, grid_90_1)\n",
    "        if max_size >max_size_final :\n",
    "            max_size_final = max_size\n",
    "        max_size = max_size + size_of_largest_isosceles_triangle(i, j, grid_90_2)\n",
    "        if max_size >max_size_final :\n",
    "            max_size_final = max_size\n",
    "        max_size = max_size + size_of_largest_isosceles_triangle(i, j, grid_90_3)\n",
    "        if max_size >max_size_final :\n",
    "            max_size_final = max_size\n",
    "\n",
    "print('The largest isosceles triangle has a size of',\n",
    "      max_size_final\n",
    "     )"
   ]
  }
 ],
 "metadata": {
  "kernelspec": {
   "display_name": "Python 3",
   "language": "python",
   "name": "python3"
  },
  "language_info": {
   "codemirror_mode": {
    "name": "ipython",
    "version": 3
   },
   "file_extension": ".py",
   "mimetype": "text/x-python",
   "name": "python",
   "nbconvert_exporter": "python",
   "pygments_lexer": "ipython3",
   "version": "3.7.3"
  }
 },
 "nbformat": 4,
 "nbformat_minor": 2
}
