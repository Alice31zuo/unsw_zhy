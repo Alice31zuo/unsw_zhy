{
 "cells": [
  {
   "cell_type": "code",
   "execution_count": null,
   "metadata": {},
   "outputs": [],
   "source": [
    "list_1 = [i for i  in range (10)] \n",
    "#1.\n",
    "print() #only output odd number   freedom style\n",
    "print() #only output even number   freedom style\n",
    "\n",
    "print(' '.join()) #only output odd number \n",
    "print(' '.join()) #only output even number\n",
    "#2. combine all the odd number or even number as one number and output as binary type like 789 => 1100010101\n",
    "#3.on the base of question 2 , transfer the binary type number as a list like [1,0,1,0,1,1]"
   ]
  },
  {
   "cell_type": "code",
   "execution_count": null,
   "metadata": {},
   "outputs": [],
   "source": [
    "#1.update your yesterday code to output this conversation for each ab pair\n",
    "# 小花问小红 ：\"直角边为a = xx ，b = xx ，斜边是？\" 小红回答 ：\"斜边c = xx。\"\n",
    "#2.on the base of question 1 ,output the a b and c with only 3 digits after the decimal point\n",
    "#3.on the base of question 2 ,output the a b and c as binary type "
   ]
  },
  {
   "cell_type": "code",
   "execution_count": 3,
   "metadata": {},
   "outputs": [
    {
     "name": "stdout",
     "output_type": "stream",
     "text": [
      "1100010101\n"
     ]
    }
   ],
   "source": []
  },
  {
   "cell_type": "code",
   "execution_count": null,
   "metadata": {},
   "outputs": [],
   "source": [
    "list_a = [i for i in range(5,9)]\n",
    "\n",
    "list_b = [i for i in range(7,11)]\n",
    "\n",
    "list_c = []\n",
    "\n",
    "#list_c中的元素为开根号之后的值\n",
    "\n",
    "#1.大家可以直接写出能得出正确c值的公式即可\n",
    "\n",
    "#2.想挑战一下的尝试得到整个list_c"
   ]
  },
  {
   "cell_type": "code",
   "execution_count": null,
   "metadata": {},
   "outputs": [],
   "source": [
    "#这几天大家都学习了一些知识了，所以今天我给姐妹们出个题目，希望姐妹们能顺利找到答案\n",
    "list_girl = [\"girls\",\"are\",\"good\",\"at\",\"math\"]\n",
    "list_up = list_girl  #change this to get the right output\n",
    "list_up[0] = \"yes\"\n",
    "list_up[1] = \"we\"\n",
    "list_up[2] = \"will\"\n",
    "list_up[3] = \"be\"\n",
    "list_up[4] = \"code_master\"\n",
    "print(list_girl) #output girls are good at math\n",
    "print(list_up)  #output yes we will be code_master\n",
    "#1.姐妹们运行一下这个代码，然后修改代码获得正确输出\n",
    "\n",
    "#2.已经做出来1来的姐妹们，尝试把输出重复输出三次\n",
    "\n",
    "#3.将这个list组成一个string 输出 ==》 girls are good at math"
   ]
  }
 ],
 "metadata": {
  "kernelspec": {
   "display_name": "Python 3",
   "language": "python",
   "name": "python3"
  },
  "language_info": {
   "codemirror_mode": {
    "name": "ipython",
    "version": 3
   },
   "file_extension": ".py",
   "mimetype": "text/x-python",
   "name": "python",
   "nbconvert_exporter": "python",
   "pygments_lexer": "ipython3",
   "version": "3.7.3"
  }
 },
 "nbformat": 4,
 "nbformat_minor": 2
}
