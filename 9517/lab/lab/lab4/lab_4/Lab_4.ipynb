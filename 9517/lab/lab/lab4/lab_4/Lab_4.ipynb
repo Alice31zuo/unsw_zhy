{
 "cells": [
  {
   "cell_type": "code",
   "execution_count": 43,
   "metadata": {},
   "outputs": [],
   "source": [
    "from sklearn import metrics\n",
    "from sklearn.datasets import load_digits\n",
    "from sklearn.model_selection import train_test_split\n",
    "from sklearn.neighbors import KNeighborsClassifier\n",
    "from sklearn.linear_model import SGDClassifier\n",
    "from sklearn.tree import DecisionTreeClassifier\n",
    "import matplotlib.pyplot as plt\n",
    "import numpy as np"
   ]
  },
  {
   "cell_type": "code",
   "execution_count": 44,
   "metadata": {},
   "outputs": [
    {
     "data": {
      "text/plain": [
       "Text(0.5, 1.0, 'Label: 0\\n')"
      ]
     },
     "execution_count": 44,
     "metadata": {},
     "output_type": "execute_result"
    },
    {
     "data": {
      "image/png": "[encoded data removed]",
      "text/plain": [
       "<Figure size 432x288 with 1 Axes>"
      ]
     },
     "metadata": {
      "needs_background": "light"
     },
     "output_type": "display_data"
    }
   ],
   "source": [
    "digits = load_digits()\n",
    "plt.imshow(np.reshape(digits.data[8], (8, 8)), cmap='gray')\n",
    "plt.title('Label: %i\\n' % digits.target[0], fontsize=25)"
   ]
  },
  {
   "cell_type": "code",
   "execution_count": 45,
   "metadata": {},
   "outputs": [],
   "source": [
    "test_size_num = 0.7 #when rise the test_size_num ,the acc of sgd and dt is rising ,but the knn \n",
    "#is decrese ,but over all ,the acc of knn keep larger than others ,so choose the 0.7 as test_size_num\n",
    "x_train,x_test,y_train,y_test= train_test_split(digits.data,digits.target,test_size= test_size_num ,random_state=0)"
   ]
  },
  {
   "cell_type": "code",
   "execution_count": 46,
   "metadata": {},
   "outputs": [],
   "source": [
    "knn_predict = KNeighborsClassifier(n_neighbors=3)  #try to test number form 1 to 10 ,find the \n",
    "#acc is lagerst when n_neighbors=3 or 5, then ,when the number grow ,the acc gets down.\n",
    "#then finally choose 3 \n",
    "#3 0.973 4 0.968 5 0.973  6 0.967 7 0.968 10 0.959\n",
    "sgd_predict = SGDClassifier()\n",
    "dtc_predict = DecisionTreeClassifier()"
   ]
  },
  {
   "cell_type": "code",
   "execution_count": 47,
   "metadata": {},
   "outputs": [
    {
     "data": {
      "text/plain": [
       "DecisionTreeClassifier(class_weight=None, criterion='gini', max_depth=None,\n",
       "                       max_features=None, max_leaf_nodes=None,\n",
       "                       min_impurity_decrease=0.0, min_impurity_split=None,\n",
       "                       min_samples_leaf=1, min_samples_split=2,\n",
       "                       min_weight_fraction_leaf=0.0, presort=False,\n",
       "                       random_state=None, splitter='best')"
      ]
     },
     "execution_count": 47,
     "metadata": {},
     "output_type": "execute_result"
    }
   ],
   "source": [
    "knn_predict.fit(x_train,y_train)\n",
    "sgd_predict.fit(x_train,y_train)\n",
    "dtc_predict.fit(x_train,y_train)"
   ]
  },
  {
   "cell_type": "code",
   "execution_count": 48,
   "metadata": {},
   "outputs": [],
   "source": [
    "knn_y = knn_predict.predict(x_test)\n",
    "sgd_y = sgd_predict.predict(x_test)\n",
    "dtc_y = dtc_predict.predict(x_test)"
   ]
  },
  {
   "cell_type": "code",
   "execution_count": 49,
   "metadata": {},
   "outputs": [],
   "source": [
    "knn_info = [metrics.accuracy_score(y_test, knn_y),\\\n",
    "            metrics.recall_score(y_test, knn_y, average='macro')]\n",
    "sgd_info =[metrics.accuracy_score(y_test, sgd_y),\\\n",
    "            metrics.recall_score(y_test, sgd_y , average='macro')]\n",
    "dtc_info =[metrics.accuracy_score(y_test, dtc_y),\\\n",
    "            metrics.recall_score(y_test, dtc_y, average='macro')]"
   ]
  },
  {
   "cell_type": "code",
   "execution_count": 50,
   "metadata": {},
   "outputs": [
    {
     "name": "stdout",
     "output_type": "stream",
     "text": [
      "COMP 9517 LAB 4 Z5196480\n",
      "\n",
      "Test size = 0.7\n",
      "KNN Accuracy:  0.973      Recall:  0.974\n",
      "SGD Accuracy:  0.941      Recall:  0.942\n",
      "DT Accuracy:   0.765      Recall:  0.767\n",
      "\n",
      "KNN Confusion matrix\n",
      "[[129   0   0   0   0   0   0   0   0   0]\n",
      " [  0 124   0   0   0   0   0   0   0   0]\n",
      " [  0   1 119   0   0   0   0   0   0   0]\n",
      " [  0   0   1 125   0   0   0   1   2   0]\n",
      " [  0   0   0   0 118   0   0   1   0   1]\n",
      " [  0   0   0   0   2 134   1   0   0   3]\n",
      " [  0   0   0   0   0   0 126   0   1   0]\n",
      " [  0   0   0   0   0   0   0 116   0   0]\n",
      " [  0  10   1   1   0   0   1   1 113   1]\n",
      " [  0   0   0   2   0   2   0   0   1 120]]\n"
     ]
    }
   ],
   "source": [
    "print('COMP 9517 LAB 4 Z5196480')\n",
    "print()\n",
    "print(f'Test size = {test_size_num}')\n",
    "print(f'KNN Accuracy:  {knn_info[0]:0.3f}      Recall:  {knn_info[1]:0.3f}')\n",
    "print(f'SGD Accuracy:  {sgd_info[0]:0.3f}      Recall:  {sgd_info[1]:0.3f}')\n",
    "print(f'DT Accuracy:   {dtc_info[0]:0.3f}      Recall:  {dtc_info[1]:0.3f}')\n",
    "print() \n",
    "print('KNN Confusion matrix')\n",
    "print(metrics.confusion_matrix(y_test, knn_y))"
   ]
  },
  {
   "cell_type": "code",
   "execution_count": 19,
   "metadata": {},
   "outputs": [],
   "source": [
    "#print(metrics.confusion_matrix(y_test, sgd_y))"
   ]
  },
  {
   "cell_type": "code",
   "execution_count": 20,
   "metadata": {},
   "outputs": [],
   "source": [
    "#print(metrics.confusion_matrix(y_test, dtc_y))"
   ]
  },
  {
   "cell_type": "code",
   "execution_count": null,
   "metadata": {},
   "outputs": [],
   "source": []
  }
 ],
 "metadata": {
  "kernelspec": {
   "display_name": "Python 3",
   "language": "python",
   "name": "python3"
  },
  "language_info": {
   "codemirror_mode": {
    "name": "ipython",
    "version": 3
   },
   "file_extension": ".py",
   "mimetype": "text/x-python",
   "name": "python",
   "nbconvert_exporter": "python",
   "pygments_lexer": "ipython3",
   "version": "3.7.3"
  }
 },
 "nbformat": 4,
 "nbformat_minor": 2
}
