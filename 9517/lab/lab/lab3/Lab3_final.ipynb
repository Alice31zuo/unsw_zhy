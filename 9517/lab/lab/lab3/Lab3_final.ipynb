{
 "cells": [
  {
   "cell_type": "code",
   "execution_count": 4,
   "metadata": {},
   "outputs": [],
   "source": [
    "import numpy as np\n",
    "import matplotlib.pyplot as plt\n",
    "import matplotlib.image as mpimg\n",
    "import cv2\n",
    "\n",
    "from scipy import ndimage as ndi\n",
    "from skimage.morphology import watershed\n",
    "from skimage.feature import peak_local_max\n",
    "from sklearn.cluster import MeanShift\n",
    "\n",
    "from PIL import Image\n",
    "\n",
    "size = 100, 100\n",
    "\n",
    "img_names_1 = [\"COMP9517_20T2_Lab3_Images/shapes.png\", \"COMP9517_20T2_Lab3_Images/strawberry.png\"]\n",
    "img_names_2 = [\"COMP9517_20T2_Lab3_Images/coins.png\", \"COMP9517_20T2_Lab3_Images/kiwi.png\"]\n",
    "\n",
    "images_1 = [i for i in img_names_1]\n",
    "images_2 = [i for i in img_names_2]\n",
    "\n",
    "def plot_three_images(figure_title, image1, label1,\n",
    "                      image2, label2, image3, label3):\n",
    "    fig = plt.figure()\n",
    "    fig.suptitle(figure_title)\n",
    "\n",
    "    # Display the first image\n",
    "    fig.add_subplot(1, 3, 1)\n",
    "    plt.imshow(image1)\n",
    "    plt.axis('off')\n",
    "    plt.title(label1)\n",
    "\n",
    "    # Display the second image\n",
    "    fig.add_subplot(1, 3, 2)\n",
    "    plt.imshow(image2)\n",
    "    plt.axis('off')\n",
    "    plt.title(label2)\n",
    "\n",
    "    # Display the third image\n",
    "    fig.add_subplot(1, 3, 3)\n",
    "    plt.imshow(image3)\n",
    "    plt.axis('off')\n",
    "    plt.title(label3)\n",
    "\n",
    "    plt.show()\n",
    "\n",
    "    \n",
    "def do_meanshift(img):\n",
    "    img_mat = np.array(img)[:, :, :3]\n",
    "    img_r = img_mat[:, :, 0]\n",
    "    img_g = img_mat[:, :, 1]\n",
    "    img_b = img_mat[:, :, 2]\n",
    "    \n",
    "    shape = img_r.shape\n",
    "    samples = np.concatenate((img_r.flatten().reshape(-1,1), img_g.flatten().reshape(-1,1), img_b.flatten().reshape(-1,1)), axis=1)\n",
    "    \n",
    "    ms_clf = MeanShift(bin_seeding=True)\n",
    "    ms_labels = ms_clf.fit_predict(samples).reshape(shape)\n",
    "\n",
    "    return ms_labels\n",
    "\n",
    "def do_watershed(img):\n",
    "    img_gray = np.array(img.convert('L'))\n",
    "    \n",
    "    img_array = np.array(img_gray)\n",
    "    distance = ndi.distance_transform_edt(img_array)\n",
    "    local_maxi = peak_local_max(distance, indices=False, labels=img_array)\n",
    "    markers = ndi.label(local_maxi)[0] \n",
    "    ws_labels = watershed(-distance, markers, mask=img_array)\n",
    "    return ws_labels, distance\n",
    "    "
   ]
  },
  {
   "cell_type": "code",
   "execution_count": 5,
   "metadata": {},
   "outputs": [
    {
     "ename": "FileNotFoundError",
     "evalue": "[Errno 2] No such file or directory: 'COMP9517_20T2_Lab3_Images/shapes.png'",
     "output_type": "error",
     "traceback": [
      "\u001b[0;31m---------------------------------------------------------------------------\u001b[0m",
      "\u001b[0;31mFileNotFoundError\u001b[0m                         Traceback (most recent call last)",
      "\u001b[0;32m<ipython-input-5-47ba4f21047b>\u001b[0m in \u001b[0;36m<module>\u001b[0;34m\u001b[0m\n\u001b[1;32m      1\u001b[0m \u001b[0;32mfor\u001b[0m \u001b[0mimg_path\u001b[0m \u001b[0;32min\u001b[0m \u001b[0mimages_1\u001b[0m\u001b[0;34m:\u001b[0m\u001b[0;34m\u001b[0m\u001b[0;34m\u001b[0m\u001b[0m\n\u001b[0;32m----> 2\u001b[0;31m     \u001b[0mimg\u001b[0m \u001b[0;34m=\u001b[0m \u001b[0mImage\u001b[0m\u001b[0;34m.\u001b[0m\u001b[0mopen\u001b[0m\u001b[0;34m(\u001b[0m\u001b[0mimg_path\u001b[0m\u001b[0;34m)\u001b[0m\u001b[0;34m\u001b[0m\u001b[0;34m\u001b[0m\u001b[0m\n\u001b[0m\u001b[1;32m      3\u001b[0m     \u001b[0mimg\u001b[0m\u001b[0;34m.\u001b[0m\u001b[0mthumbnail\u001b[0m\u001b[0;34m(\u001b[0m\u001b[0msize\u001b[0m\u001b[0;34m)\u001b[0m\u001b[0;34m\u001b[0m\u001b[0;34m\u001b[0m\u001b[0m\n\u001b[1;32m      4\u001b[0m \u001b[0;34m\u001b[0m\u001b[0m\n\u001b[1;32m      5\u001b[0m     \u001b[0mms_labels\u001b[0m \u001b[0;34m=\u001b[0m \u001b[0mdo_meanshift\u001b[0m\u001b[0;34m(\u001b[0m\u001b[0mimg\u001b[0m\u001b[0;34m)\u001b[0m\u001b[0;34m\u001b[0m\u001b[0;34m\u001b[0m\u001b[0m\n",
      "\u001b[0;32m~/anaconda3/lib/python3.7/site-packages/PIL/Image.py\u001b[0m in \u001b[0;36mopen\u001b[0;34m(fp, mode)\u001b[0m\n\u001b[1;32m   2764\u001b[0m \u001b[0;34m\u001b[0m\u001b[0m\n\u001b[1;32m   2765\u001b[0m     \u001b[0;32mif\u001b[0m \u001b[0mfilename\u001b[0m\u001b[0;34m:\u001b[0m\u001b[0;34m\u001b[0m\u001b[0;34m\u001b[0m\u001b[0m\n\u001b[0;32m-> 2766\u001b[0;31m         \u001b[0mfp\u001b[0m \u001b[0;34m=\u001b[0m \u001b[0mbuiltins\u001b[0m\u001b[0;34m.\u001b[0m\u001b[0mopen\u001b[0m\u001b[0;34m(\u001b[0m\u001b[0mfilename\u001b[0m\u001b[0;34m,\u001b[0m \u001b[0;34m\"rb\"\u001b[0m\u001b[0;34m)\u001b[0m\u001b[0;34m\u001b[0m\u001b[0;34m\u001b[0m\u001b[0m\n\u001b[0m\u001b[1;32m   2767\u001b[0m         \u001b[0mexclusive_fp\u001b[0m \u001b[0;34m=\u001b[0m \u001b[0;32mTrue\u001b[0m\u001b[0;34m\u001b[0m\u001b[0;34m\u001b[0m\u001b[0m\n\u001b[1;32m   2768\u001b[0m \u001b[0;34m\u001b[0m\u001b[0m\n",
      "\u001b[0;31mFileNotFoundError\u001b[0m: [Errno 2] No such file or directory: 'COMP9517_20T2_Lab3_Images/shapes.png'"
     ]
    }
   ],
   "source": [
    "for img_path in images_1:\n",
    "    img = Image.open(img_path)\n",
    "    img.thumbnail(size)\n",
    "    \n",
    "    ms_labels = do_meanshift(img)\n",
    "    ws_labels, distance = do_watershed(img)\n",
    "    \n",
    "    plot_three_images(img_path, img, \"Image\",\n",
    "                     ms_labels, \"MeanShift Labels\",\n",
    "                     ws_labels, \"Watershed Labels\")\n",
    "\n",
    "for img_path in images_2:\n",
    "    img = Image.open(img_path)\n",
    "    img.thumbnail(size)\n",
    "    \n",
    "    ms_labels = do_meanshift(img)\n",
    "    ws_labels, distance = do_watershed(img)\n",
    "    \n",
    "    plot_three_images(img_path, img, \"Image\",\n",
    "                     ms_labels, \"MeanShift Labels\",\n",
    "                     ws_labels, \"Watershed Labels\")"
   ]
  },
  {
   "cell_type": "code",
   "execution_count": null,
   "metadata": {},
   "outputs": [],
   "source": [
    "#task 3\n",
    "def optimization_ws(img):\n",
    "    img_gray = np.array(img.convert('L'))\n",
    "    raw_img = np.array(img)[:, :, :3]\n",
    "    print(img_gray.shape)\n",
    "    ret, thresh = cv2.threshold(img_gray, 0,255, cv2.THRESH_BINARY + cv2.THRESH_OTSU)\n",
    "    \n",
    "    img_array = np.array(img_gray)\n",
    "    # 噪声去除\n",
    "    kernel = np.ones((3,3),np.uint8)\n",
    "    closing = cv2.morphologyEx(thresh,cv2.MORPH_CLOSE,kernel, iterations = 1)\n",
    "    # 确定背景区域\n",
    "    sure_bg = cv2.dilate(closing,kernel,iterations=1)\n",
    "    # 寻找前景区域\n",
    "    dist_transform = cv2.distanceTransform(sure_bg,cv2.DIST_L2,0)\n",
    "    \n",
    "    plt.imshow(dist_transform)\n",
    "    \n",
    "    localMax = peak_local_max(dist_transform, indices=False, labels=sure_bg)\n",
    "    markers = ndi.label(localMax)[0]\n",
    "    labels = watershed(-dist_transform, markers, mask=img_gray)\n",
    "    return labels, dist_transform"
   ]
  },
  {
   "cell_type": "code",
   "execution_count": 3,
   "metadata": {},
   "outputs": [
    {
     "ename": "FileNotFoundError",
     "evalue": "[Errno 2] No such file or directory: 'COMP9517_20T2_Lab3_Images/coins.png'",
     "output_type": "error",
     "traceback": [
      "\u001b[0;31m---------------------------------------------------------------------------\u001b[0m",
      "\u001b[0;31mFileNotFoundError\u001b[0m                         Traceback (most recent call last)",
      "\u001b[0;32m<ipython-input-3-1ce153313ce9>\u001b[0m in \u001b[0;36m<module>\u001b[0;34m\u001b[0m\n\u001b[1;32m      1\u001b[0m \u001b[0;32mfor\u001b[0m \u001b[0mimg_path\u001b[0m \u001b[0;32min\u001b[0m \u001b[0mimages_2\u001b[0m\u001b[0;34m:\u001b[0m\u001b[0;34m\u001b[0m\u001b[0;34m\u001b[0m\u001b[0m\n\u001b[0;32m----> 2\u001b[0;31m     \u001b[0mimg\u001b[0m \u001b[0;34m=\u001b[0m \u001b[0mImage\u001b[0m\u001b[0;34m.\u001b[0m\u001b[0mopen\u001b[0m\u001b[0;34m(\u001b[0m\u001b[0mimg_path\u001b[0m\u001b[0;34m)\u001b[0m\u001b[0;34m\u001b[0m\u001b[0;34m\u001b[0m\u001b[0m\n\u001b[0m\u001b[1;32m      3\u001b[0m     \u001b[0mimg\u001b[0m\u001b[0;34m.\u001b[0m\u001b[0mthumbnail\u001b[0m\u001b[0;34m(\u001b[0m\u001b[0msize\u001b[0m\u001b[0;34m)\u001b[0m\u001b[0;34m\u001b[0m\u001b[0;34m\u001b[0m\u001b[0m\n\u001b[1;32m      4\u001b[0m \u001b[0;34m\u001b[0m\u001b[0m\n\u001b[1;32m      5\u001b[0m     \u001b[0mms_labels\u001b[0m \u001b[0;34m=\u001b[0m \u001b[0mdo_meanshift\u001b[0m\u001b[0;34m(\u001b[0m\u001b[0mimg\u001b[0m\u001b[0;34m)\u001b[0m\u001b[0;34m\u001b[0m\u001b[0;34m\u001b[0m\u001b[0m\n",
      "\u001b[0;32m~/anaconda3/lib/python3.7/site-packages/PIL/Image.py\u001b[0m in \u001b[0;36mopen\u001b[0;34m(fp, mode)\u001b[0m\n\u001b[1;32m   2764\u001b[0m \u001b[0;34m\u001b[0m\u001b[0m\n\u001b[1;32m   2765\u001b[0m     \u001b[0;32mif\u001b[0m \u001b[0mfilename\u001b[0m\u001b[0;34m:\u001b[0m\u001b[0;34m\u001b[0m\u001b[0;34m\u001b[0m\u001b[0m\n\u001b[0;32m-> 2766\u001b[0;31m         \u001b[0mfp\u001b[0m \u001b[0;34m=\u001b[0m \u001b[0mbuiltins\u001b[0m\u001b[0;34m.\u001b[0m\u001b[0mopen\u001b[0m\u001b[0;34m(\u001b[0m\u001b[0mfilename\u001b[0m\u001b[0;34m,\u001b[0m \u001b[0;34m\"rb\"\u001b[0m\u001b[0;34m)\u001b[0m\u001b[0;34m\u001b[0m\u001b[0;34m\u001b[0m\u001b[0m\n\u001b[0m\u001b[1;32m   2767\u001b[0m         \u001b[0mexclusive_fp\u001b[0m \u001b[0;34m=\u001b[0m \u001b[0;32mTrue\u001b[0m\u001b[0;34m\u001b[0m\u001b[0;34m\u001b[0m\u001b[0m\n\u001b[1;32m   2768\u001b[0m \u001b[0;34m\u001b[0m\u001b[0m\n",
      "\u001b[0;31mFileNotFoundError\u001b[0m: [Errno 2] No such file or directory: 'COMP9517_20T2_Lab3_Images/coins.png'"
     ]
    }
   ],
   "source": [
    "for img_path in images_2:\n",
    "    img = Image.open(img_path)\n",
    "    img.thumbnail(size)\n",
    "    \n",
    "    ms_labels = do_meanshift(img)\n",
    "    ws_labels, distance = optimization_ws(img)\n",
    "    \n",
    "    plot_three_images(img_path, img, \"Image\",\n",
    "                     ms_labels, \"MeanShift Labels\",\n",
    "                     ws_labels, \"Watershed Labels\")"
   ]
  },
  {
   "cell_type": "code",
   "execution_count": null,
   "metadata": {},
   "outputs": [],
   "source": []
  },
  {
   "cell_type": "code",
   "execution_count": null,
   "metadata": {},
   "outputs": [],
   "source": []
  }
 ],
 "metadata": {
  "kernelspec": {
   "display_name": "Python 3",
   "language": "python",
   "name": "python3"
  },
  "language_info": {
   "codemirror_mode": {
    "name": "ipython",
    "version": 3
   },
   "file_extension": ".py",
   "mimetype": "text/x-python",
   "name": "python",
   "nbconvert_exporter": "python",
   "pygments_lexer": "ipython3",
   "version": "3.7.3"
  }
 },
 "nbformat": 4,
 "nbformat_minor": 4
}
